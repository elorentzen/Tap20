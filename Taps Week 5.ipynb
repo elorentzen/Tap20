{
 "cells": [
  {
   "cell_type": "markdown",
   "metadata": {},
   "source": [
    "<style>\n",
    " .rendered_html img {margin-left: 0 !important;} \n",
    " .rendered_html table {margin-left: 0 !important;}  \n",
    "</style>\n",
    "\n",
    "<img src=https://www.noroff.no/images/logo/noroff-logo216x65.png>"
   ]
  },
  {
   "cell_type": "markdown",
   "metadata": {},
   "source": [
    "\n",
    "\n",
    "|Topic Title | Programming |\n",
    "|:-----------|-------------|\n",
    "|Topic Code  | FS2PRG111   |\n",
    "|TAP         | Tap 20     |\n",
    "\n",
    "## Tap20\n",
    "\n",
    "1. You are to document the file 16 - Documenting_Practical.py using sphinx\n",
    "    * the documentation should be hosted on <a href=\"https://readthedocs.org/\">Readthedocs</a>\n",
    "    * the link to the documentation should be made avalible in this notebook.\n",
    "   "
   ]
  },
  {
   "cell_type": "markdown",
   "metadata": {},
   "source": [
    "Tap 20 link:"
   ]
  },
  {
   "cell_type": "markdown",
   "metadata": {},
   "source": [
    "https://tap-201.readthedocs.io/en/latest/"
   ]
  },
  {
   "cell_type": "markdown",
   "metadata": {},
   "source": [
    "<img src=https://www.noroff.no/images/logo/noroff-logo216x65.png>"
   ]
  },
  {
   "cell_type": "markdown",
   "metadata": {},
   "source": [
    "|Topic Title | Programming |\n",
    "|:-----------|-------------|\n",
    "|Topic Code  | FS2PRG111   |\n",
    "|TAP         | Tap 21      |\n",
    "\n",
    "## Tap21"
   ]
  },
  {
   "cell_type": "markdown",
   "metadata": {},
   "source": [
    "1. Create a simple Flask web page\n",
    "    * it should contain a home and and an about page\n",
    "    \n",
    "    * optional: use a template as a base for the pages"
   ]
  },
  {
   "cell_type": "markdown",
   "metadata": {},
   "source": [
    "Tap 21:"
   ]
  },
  {
   "cell_type": "markdown",
   "metadata": {},
   "source": [
    "home.html, about.html and template.html files can be found on GitHub."
   ]
  },
  {
   "cell_type": "code",
   "execution_count": null,
   "metadata": {},
   "outputs": [],
   "source": [
    "from flask import Flask, render_template\n",
    "\n",
    "app = Flask(__name__)\n",
    "\n",
    "\n",
    "@app.route(\"/\")\n",
    "def home():\n",
    "    return render_template(\"home.html\")\n",
    "\n",
    "@app.route(\"/about\")\n",
    "def about():\n",
    "    return render_template(\"about.html\")\n",
    "\n",
    "\n",
    "if __name__ == \"__main__\":\n",
    "    app.run()"
   ]
  },
  {
   "cell_type": "markdown",
   "metadata": {},
   "source": [
    "<img src=https://www.noroff.no/images/logo/noroff-logo216x65.png>"
   ]
  },
  {
   "cell_type": "markdown",
   "metadata": {},
   "source": [
    "|Topic Title | Programming |\n",
    "|:-----------|-------------|\n",
    "|Topic Code  | FS2PRG111   |\n",
    "|TAP         | Tap 22      |\n",
    "\n",
    "## Tap22\n"
   ]
  },
  {
   "cell_type": "code",
   "execution_count": null,
   "metadata": {},
   "outputs": [],
   "source": [
    "from queue import Queue\n",
    "\n",
    "tasks_que = Queue()\n",
    "\n",
    "i = 0;\n",
    "while True:\n",
    "        if not tasks_que.full():\n",
    "            tasks_que.put(i)\n",
    "        i+=1\n",
    "\n",
    "while True:\n",
    "        if not tasks_que.empty():\n",
    "            print(task.que.pop())\n",
    "            tasks_que.task_done()"
   ]
  },
  {
   "cell_type": "markdown",
   "metadata": {},
   "source": [
    "1.\tThe programm above will never reach the second while loop.\n",
    "    * Modify the program so it uses threadding and thereby do all its tasks its tasks."
   ]
  },
  {
   "cell_type": "markdown",
   "metadata": {},
   "source": [
    "Tap 22:"
   ]
  },
  {
   "cell_type": "markdown",
   "metadata": {},
   "source": [
    "Svært vanskelig å få til da det ikke ble forelesning (er online student) og heller ingen recordings har kommet opp i etterkant. Powerpoint (lecture slides) består kun av screenshots av kode hvor ingenting blir forklart. I boken står det heller ingenting om hverken Queue eller Threading. Blir derfor vanskelig å skjønne hva programmet er ment å gjøre, og derfor enda vanskeligere å kunne modifisere det til å fungere med threads. Ved hjelp av google ble dette mitt forsøk:"
   ]
  },
  {
   "cell_type": "code",
   "execution_count": null,
   "metadata": {},
   "outputs": [],
   "source": [
    "import threading\n",
    "from queue import Queue\n",
    "\n",
    "q = Queue()\n",
    "\n",
    "class listener(object):\n",
    "    def __init__(self):\n",
    "        thread = threading.Thread(target=self.loop)\n",
    "        # thread.daemon = True\n",
    "        thread.start()\n",
    "\n",
    "    def loop(self):\n",
    "        for i in range(0,13):\n",
    "            q.put(i)\n",
    "\n",
    "class ui(object):\n",
    "    def __init__(self):\n",
    "        listener()\n",
    "        while True:\n",
    "            item = q.get()\n",
    "            print(item)\n",
    "            if item == 10:\n",
    "                break\n",
    "ui()"
   ]
  },
  {
   "cell_type": "markdown",
   "metadata": {},
   "source": [
    "<img src=https://www.noroff.no/images/logo/noroff-logo216x65.png>"
   ]
  },
  {
   "cell_type": "markdown",
   "metadata": {},
   "source": [
    "|Topic Title | Programming |\n",
    "|:-----------|-------------|\n",
    "|Topic Code  | FS2PRG111   |\n",
    "|TAP         | Tap 23      |\n",
    "\n",
    "## Tap23"
   ]
  },
  {
   "cell_type": "code",
   "execution_count": 9,
   "metadata": {},
   "outputs": [],
   "source": [
    "def infinete_numbers():\n",
    "    i = 0\n",
    "    while True:\n",
    "        print(i)\n",
    "        i+=1"
   ]
  },
  {
   "cell_type": "markdown",
   "metadata": {},
   "source": [
    "1.\tRework the function above into a generator.\n",
    "    * explain trough commenting your own code, why generators are great!\n",
    "    * add new functionallity as you see fit."
   ]
  },
  {
   "cell_type": "markdown",
   "metadata": {},
   "source": [
    "Tap 23:"
   ]
  },
  {
   "cell_type": "markdown",
   "metadata": {},
   "source": [
    "Igjen blir det litt vanskelig uten forelesning tilgjengelig, i tillegg til at det ikke står noe om generators i lecture slides for denne tapen (utenom i .pptx filnavnet \"19 - Decorators and Generators\"). I følge boken er også funksjonen i oppgaveteksten allerede en generator. Går derfra ut ifra at det er denne typen generator det er snakk om. Oppgaven ble derfor løst på følgende måte (selv om det ikke føles helt riktig):"
   ]
  },
  {
   "cell_type": "code",
   "execution_count": null,
   "metadata": {},
   "outputs": [],
   "source": [
    "def gen():\n",
    "#Generatorer er kjekke fordi de er funksjoner som lar en bruke for eksempel for loop som i denne koden.\n",
    "#I dette eksempelet er det en simpel nummergenerator som genererer nummer opp til ønsket antall.\n",
    "#Antallet blir satt i for loopen og er i dette tilfellet 1000.\n",
    "\n",
    "#Her sier vi at tellingen skal starte på 1. Videre sier vi at når i=1 skal koden \"yielde\" i+1.\n",
    "    i = 1\n",
    "    while True:\n",
    "        yield i\n",
    "        i+=1\n",
    "\n",
    "#For at generatoren skal telle lenger enn til 1 legges det inn en for loop som sier at hvis \"i\"\n",
    "#er høyere enn 1000, skal koden brytes. Hvis ikke skal en printe teksten \"Number: \" i lag med tallet.\n",
    "\n",
    "for i in gen():\n",
    "    if i > 1000:\n",
    "        break\n",
    "    else:\n",
    "        print(\"Number: \", i)\n",
    "#Hvis en ønsker en infinite number generator kan en fjerne deler av koden slik at det blir:\n",
    "\n",
    "#for i in gen():\n",
    "#print(\"Number: \", i)\n",
    "\n",
    "#Da vil ikke tellingen stoppe på 1000, men når koden manuelt stoppes i cli.\n",
    "gen()\n"
   ]
  },
  {
   "cell_type": "markdown",
   "metadata": {},
   "source": [
    "<img src=https://www.noroff.no/images/logo/noroff-logo216x65.png>"
   ]
  },
  {
   "cell_type": "markdown",
   "metadata": {},
   "source": [
    "\n",
    "\n",
    "|Topic Title | Programming |\n",
    "|:-----------|-------------|\n",
    "|Topic Code  | FS2PRG111   |\n",
    "|TAP         | Tap 24     |\n",
    "\n",
    "## Tap24\n"
   ]
  },
  {
   "cell_type": "markdown",
   "metadata": {},
   "source": [
    "1. Create a Factory that generate cars, feel free to draw insporation from week 4.\n",
    "    * The factory should use generators to modify its car models.\n",
    "    * (optional) use generators in your car design\n"
   ]
  },
  {
   "cell_type": "code",
   "execution_count": null,
   "metadata": {},
   "outputs": [],
   "source": []
  },
  {
   "cell_type": "markdown",
   "metadata": {},
   "source": [
    "| Assesment Grid |             |\n",
    "|------------|-------------|\n",
    "|No effort put into this – or totally off topic. | 0% |\n",
    "|You have made some effort, but you need to put in some more work to pass. | 25% |\n",
    "|You have some knowledge about the topic – but you should elaborate more to show that you are willing to put in the work needed. | 50% |\n",
    "|Good job, you know a lot about the topic and with a little more effort – you will get full score. | 75% |\n",
    "|Excellent! Putting a solid effort into these tasks, demonstrating thoughtful and/or technically correct solutions and/or answers. | 100% |"
   ]
  },
  {
   "cell_type": "markdown",
   "metadata": {},
   "source": [
    "## Tap Response\n",
    "\n",
    "\n",
    "<table>\n",
    "    <thead>Tap Response</thead>\n",
    "    <tbody>\n",
    "        <tr>\n",
    "            <td>Tap</td>\n",
    "            <td>Tap01</td>\n",
    "            <td>Tap02</td>\n",
    "            <td>Tap03</td>\n",
    "            <td>Tap04</td>\n",
    "            <td>Tap05</td>\n",
    "        <tr>\n",
    "        <tr>\n",
    "            <td>Response</td>\n",
    "            <td>0%</td>\n",
    "            <td>0%</td>\n",
    "            <td>0%</td>\n",
    "            <td>0%</td>\n",
    "            <td>0%</td>\n",
    "        <tr>\n",
    "    </tbody>\n",
    "</table>"
   ]
  },
  {
   "cell_type": "code",
   "execution_count": null,
   "metadata": {},
   "outputs": [],
   "source": []
  }
 ],
 "metadata": {
  "kernelspec": {
   "display_name": "Python 3",
   "language": "python",
   "name": "python3"
  },
  "language_info": {
   "codemirror_mode": {
    "name": "ipython",
    "version": 3
   },
   "file_extension": ".py",
   "mimetype": "text/x-python",
   "name": "python",
   "nbconvert_exporter": "python",
   "pygments_lexer": "ipython3",
   "version": "3.7.2"
  }
 },
 "nbformat": 4,
 "nbformat_minor": 2
}
